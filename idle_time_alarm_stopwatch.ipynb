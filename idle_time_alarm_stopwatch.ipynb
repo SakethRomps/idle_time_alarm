{
 "cells": [
  {
   "cell_type": "code",
   "execution_count": 1,
   "metadata": {},
   "outputs": [],
   "source": [
    "import time\n",
    "import winsound\n",
    "import win32api"
   ]
  },
  {
   "cell_type": "code",
   "execution_count": 2,
   "metadata": {},
   "outputs": [
    {
     "name": "stdout",
     "output_type": "stream",
     "text": [
      "Press Enter to start the stop watch\n",
      "trigger1 has started\n",
      "Stop watch has started\n"
     ]
    }
   ],
   "source": [
    "input('Press Enter to start inactivity tracker')\n",
    "\n",
    "time.sleep(60) # inactivity time in seconds\n",
    "\n",
    "print('Inactivity Detected')\n",
    "\n",
    "trigger1 = win32api.GetLastInputInfo()\n",
    "\n",
    "time.sleep(2)\n",
    "trigger2 = win32api.GetLastInputInfo()\n",
    "\n",
    "if trigger1 == trigger2:\n",
    "    print('Stopwatch has started')\n",
    "    time.sleep(2)\n",
    "    s = win32api.GetLastInputInfo()\n",
    "\n",
    "    time.sleep(300) # stopwatch in seconds \n",
    "\n",
    "    t = win32api.GetLastInputInfo()\n",
    "    if s == t:\n",
    "        winsound.MessageBeep()\n",
    "else:\n",
    "    pass\n",
    "    "
   ]
  },
  {
   "cell_type": "code",
   "execution_count": null,
   "metadata": {},
   "outputs": [],
   "source": []
  }
 ],
 "metadata": {
  "kernelspec": {
   "display_name": "Python 3",
   "language": "python",
   "name": "python3"
  },
  "language_info": {
   "codemirror_mode": {
    "name": "ipython",
    "version": 3
   },
   "file_extension": ".py",
   "mimetype": "text/x-python",
   "name": "python",
   "nbconvert_exporter": "python",
   "pygments_lexer": "ipython3",
   "version": "3.7.3"
  }
 },
 "nbformat": 4,
 "nbformat_minor": 2
}
